{
 "cells": [
  {
   "cell_type": "markdown",
   "metadata": {},
   "source": [
    "## Assignment 1 \n",
    "\n",
    "#### For this assignment, we had to locate CUSP on a map of Brooklyn using Geopandas using spatial data.\n",
    "\n",
    "## Assignment 2 \n",
    "\n",
    "#### For this assignment, we had to combine census data on business establishments in NYC from 1994-2015 and zipcode shapefiles; run two different algorithms on the timeseries data to see trends in the number of business establishments and then map the change over time.\n",
    "\n",
    "#### Group credits: I worked with Ben Miller and Nurvirta Monarizqa on this assignment "
   ]
  },
  {
   "cell_type": "code",
   "execution_count": null,
   "metadata": {
    "collapsed": true
   },
   "outputs": [],
   "source": []
  }
 ],
 "metadata": {
  "kernelspec": {
   "display_name": "PUI2016_Python3",
   "language": "python",
   "name": "pui2016_python3"
  },
  "language_info": {
   "codemirror_mode": {
    "name": "ipython",
    "version": 3
   },
   "file_extension": ".py",
   "mimetype": "text/x-python",
   "name": "python",
   "nbconvert_exporter": "python",
   "pygments_lexer": "ipython3",
   "version": "3.5.2"
  }
 },
 "nbformat": 4,
 "nbformat_minor": 0
}
