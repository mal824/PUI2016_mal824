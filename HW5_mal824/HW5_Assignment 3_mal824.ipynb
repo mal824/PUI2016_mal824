{
 "cells": [
  {
   "cell_type": "markdown",
   "metadata": {},
   "source": [
    "### Formulate the Null hypothesis in words and in formulae for the 4 experiments below:"
   ]
  },
  {
   "cell_type": "markdown",
   "metadata": {},
   "source": [
    "#### 1) Do diets help lose more fat than the exercise?"
   ]
  },
  {
   "cell_type": "markdown",
   "metadata": {},
   "source": [
    "#### H0: Diets wlll not help test group lose more fat than group who exercise |    (Diet_fat_loss)_testgroup <= (Exercise_fat_loss)_control group"
   ]
  },
  {
   "cell_type": "markdown",
   "metadata": {},
   "source": [
    "#### 2. Do American trust the president?"
   ]
  },
  {
   "cell_type": "markdown",
   "metadata": {},
   "source": [
    "#### H0: A significant percentage of American people trust the president. | P(yes)_votes >= P(no)_votes"
   ]
  },
  {
   "cell_type": "markdown",
   "metadata": {},
   "source": [
    "#### 3. Effectiveness of nicotine patches to quit smoking."
   ]
  },
  {
   "cell_type": "markdown",
   "metadata": {},
   "source": [
    "#### H0: Average cessation rates of group using nicotine patch is smaller than the rate of group with placebo patch | (nico_rate)_testgroup <= (place_rate)_controlgroup"
   ]
  },
  {
   "cell_type": "markdown",
   "metadata": {},
   "source": [
    "#### 4. Quantify the danger of smoking for pregnant women."
   ]
  },
  {
   "cell_type": "markdown",
   "metadata": {},
   "source": [
    "#### H0: Averge IQ of children at age 1,2,3 and 4 of smokering moms is higher than average IO of children with non-smoking moms |  IQ_smoker_moms(1,2,3 & 4)>= IQ_non_smoker_moms(1,2,3 & 4)"
   ]
  },
  {
   "cell_type": "code",
   "execution_count": null,
   "metadata": {
    "collapsed": true
   },
   "outputs": [],
   "source": []
  }
 ],
 "metadata": {
  "kernelspec": {
   "display_name": "PUI2016_Python2",
   "language": "python",
   "name": "pui2016_python2"
  },
  "language_info": {
   "codemirror_mode": {
    "name": "ipython",
    "version": 2
   },
   "file_extension": ".py",
   "mimetype": "text/x-python",
   "name": "python",
   "nbconvert_exporter": "python",
   "pygments_lexer": "ipython2",
   "version": "2.7.12"
  }
 },
 "nbformat": 4,
 "nbformat_minor": 0
}
