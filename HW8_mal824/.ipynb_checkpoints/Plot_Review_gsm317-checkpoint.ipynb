{
 "cells": [
  {
   "cell_type": "markdown",
   "metadata": {},
   "source": [
    "## Plot Review: Mayes Gregory Stevan (gsm317)\n",
    "\n",
    "### Plot \n",
    "![Mean Fuel Consumption by Floor Area](HW7_gsm317.png)\n",
    "\n",
    "\n",
    "### Review\n",
    "\n",
    "\n",
    "The plot has a clear caption explaining the information being conveyed.  The axis labels are accurate and readable. Although it has lots of datapoint, it's clear which scatterpoints are related to which fuel type. One clear area for improvement is the addition of a title. The plot lacks a title that summarizes the visual.\n",
    "\n",
    "Peer reviewer: Maisha Lopa (mal824)\n",
    "\n"
   ]
  }
 ],
 "metadata": {
  "kernelspec": {
   "display_name": "PUI2016_Python2",
   "language": "python",
   "name": "pui2016_python2"
  },
  "language_info": {
   "codemirror_mode": {
    "name": "ipython",
    "version": 2
   },
   "file_extension": ".py",
   "mimetype": "text/x-python",
   "name": "python",
   "nbconvert_exporter": "python",
   "pygments_lexer": "ipython2",
   "version": "2.7.12"
  }
 },
 "nbformat": 4,
 "nbformat_minor": 0
}
