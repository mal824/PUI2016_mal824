{
 "cells": [
  {
   "cell_type": "markdown",
   "metadata": {},
   "source": [
    "## Plot Review: Fernando Melchor\n",
    "\n",
    "### Plot \n",
    "\n",
    "#### Github link: https://github.com/fernandomelchor/PUI2016_lmf445/blob/master/HW7_lmf445/HW7_1_lmf445.ipynb\n",
    "![Distribution of Extra Charged trips during the day](HW7_1_lmf445.png)\n",
    "\n",
    "\n",
    "### Review\n",
    "\n",
    "Fernando had a lot of plots and a lot of data analysis in his HW 7 notebook so I just picked one random plot to review.  He didn't specify which plot was meant for review. The plot I picked (shown above) has a clear title explaining the information being conveyed. The plot has clear axis labels and a good legend. The data is conveyed clearly.  \n",
    "\n",
    "Two improvements that can be made are the x axis ticks labels are not readable in the current state and the plot could also use a caption.\n",
    "\n",
    "Peer reviewer: Maisha Lopa (mal824)\n"
   ]
  },
  {
   "cell_type": "code",
   "execution_count": null,
   "metadata": {
    "collapsed": true
   },
   "outputs": [],
   "source": []
  }
 ],
 "metadata": {
  "kernelspec": {
   "display_name": "PUI2016_Python2",
   "language": "python",
   "name": "pui2016_python2"
  },
  "language_info": {
   "codemirror_mode": {
    "name": "ipython",
    "version": 2
   },
   "file_extension": ".py",
   "mimetype": "text/x-python",
   "name": "python",
   "nbconvert_exporter": "python",
   "pygments_lexer": "ipython2",
   "version": "2.7.12"
  }
 },
 "nbformat": 4,
 "nbformat_minor": 0
}
