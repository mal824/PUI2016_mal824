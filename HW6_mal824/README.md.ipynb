{
 "cells": [
  {
   "cell_type": "markdown",
   "metadata": {},
   "source": [
    "### Assignment 1"
   ]
  },
  {
   "cell_type": "markdown",
   "metadata": {},
   "source": [
    "#### For this assignment, we had to use building occupancy data and energy usage data to determine whether we can predict energy consumption based on the number of units in a building and vis verse.  To do this, I performed the following steps on a high level: \n",
    "\n",
    "1. Download building data (Pluto) and energy data from respective sources\n",
    "2. Clean the data \n",
    "   * by dropping unnecessary columns, limiting data ranges of important columns to remove outliers, calculating total energy used at the building level by multiplying floorarea with the energy per sq ft column, renaming individual \"Borough Block Lot\" columns to \"BBL\" in the energy data set etc.\n",
    "3. Merging data sets \n",
    "    * merge using common columns \"BBL\"\n",
    "4. Analyze the dataset to assess the predictive power of energy consumption given building units and vise versa\n",
    "    * we ran regressions of the data (by taking log functions) and plotted the analysis (both a linear and polynomial model) \n",
    "5. Perform Likelihood ratio test of the two models \n",
    "    * to determine while models have the most predictive power\n",
    "\n",
    "#### Citations: I followed Federica's skeleton notebook and worked with Laura Gladson, Alexey Kalnin, and Socrates Paupoudopolous."
   ]
  },
  {
   "cell_type": "markdown",
   "metadata": {},
   "source": [
    "### Assignnment 2\n",
    "\n",
    "For this assignment we used Citibike data to answer the following research question:\n",
    "\n",
    "Research Question: Are users under 35 years of age significantly more likely to bike for longer durations than the average user?\n",
    "\n",
    "Our Experimental Setup:\n",
    "\n",
    "* Null Hypothesis: Users under the age of 35 are likely to bike for the same or lesser durations than the average user\n",
    "* Alterative Hypothesis: Users under the age of 35 are significantly more likely to bike for longer durations\n",
    "* Significance Level: We used a significance level of alpha=0.05 which means that we want the probability of getting results at least as significant as ours to be less then 5%\"\n",
    "\n",
    "We performed a z-test and was successfully able to reject our null hypothesis. We can say from the analysis that based on the data we analyzed, cibiker riders under 35 have longer trip duration than the average citibike rider.\n",
    "\n",
    "The report can be found here: https://www.authorea.com/users/106326/articles/133244/_show_article\n",
    "\n",
    "#### Citations - The project group included Laura, Alexey, Nonie, and Santiago\n"
   ]
  },
  {
   "cell_type": "code",
   "execution_count": null,
   "metadata": {
    "collapsed": true
   },
   "outputs": [],
   "source": []
  }
 ],
 "metadata": {
  "kernelspec": {
   "display_name": "PUI2016_Python3",
   "language": "python",
   "name": "pui2016_python3"
  },
  "language_info": {
   "codemirror_mode": {
    "name": "ipython",
    "version": 3
   },
   "file_extension": ".py",
   "mimetype": "text/x-python",
   "name": "python",
   "nbconvert_exporter": "python",
   "pygments_lexer": "ipython3",
   "version": "3.5.2"
  }
 },
 "nbformat": 4,
 "nbformat_minor": 0
}
